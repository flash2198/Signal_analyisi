{
  "nbformat": 4,
  "nbformat_minor": 0,
  "metadata": {
    "colab": {
      "name": "intern.ipynb",
      "provenance": [],
      "collapsed_sections": []
    },
    "kernelspec": {
      "name": "python3",
      "display_name": "Python 3"
    }
  },
  "cells": [
    {
      "cell_type": "code",
      "metadata": {
        "id": "ugR3OpjSzL0A"
      },
      "source": [
        "import pandas as pd\r\n",
        "import matplotlib.pyplot as plt"
      ],
      "execution_count": 2,
      "outputs": []
    },
    {
      "cell_type": "markdown",
      "metadata": {
        "id": "XJUVNimP0Jy1"
      },
      "source": [
        "## Import data"
      ]
    },
    {
      "cell_type": "code",
      "metadata": {
        "id": "1e7TdGek0MJp"
      },
      "source": [
        "data=pd.read_csv('intern_dataset.csv',parse_dates=['Time'])"
      ],
      "execution_count": 7,
      "outputs": []
    },
    {
      "cell_type": "markdown",
      "metadata": {
        "id": "J17atJCj05U3"
      },
      "source": [
        "## Creating copy for our data set"
      ]
    },
    {
      "cell_type": "code",
      "metadata": {
        "id": "tYO2HsnM0_FH"
      },
      "source": [
        "df_tmp=data.copy()"
      ],
      "execution_count": 8,
      "outputs": []
    },
    {
      "cell_type": "code",
      "metadata": {
        "colab": {
          "base_uri": "https://localhost:8080/",
          "height": 195
        },
        "id": "qvaCZ2Tf1CXP",
        "outputId": "c526608f-e0a4-4be1-e013-f1b3e4644dab"
      },
      "source": [
        "df_tmp.head()"
      ],
      "execution_count": 9,
      "outputs": [
        {
          "output_type": "execute_result",
          "data": {
            "text/html": [
              "<div>\n",
              "<style scoped>\n",
              "    .dataframe tbody tr th:only-of-type {\n",
              "        vertical-align: middle;\n",
              "    }\n",
              "\n",
              "    .dataframe tbody tr th {\n",
              "        vertical-align: top;\n",
              "    }\n",
              "\n",
              "    .dataframe thead th {\n",
              "        text-align: right;\n",
              "    }\n",
              "</style>\n",
              "<table border=\"1\" class=\"dataframe\">\n",
              "  <thead>\n",
              "    <tr style=\"text-align: right;\">\n",
              "      <th></th>\n",
              "      <th>Time</th>\n",
              "      <th>Signal1</th>\n",
              "      <th>Signal2</th>\n",
              "      <th>Label</th>\n",
              "    </tr>\n",
              "  </thead>\n",
              "  <tbody>\n",
              "    <tr>\n",
              "      <th>0</th>\n",
              "      <td>2017-08-14 11:37:49.791</td>\n",
              "      <td>33668.091913</td>\n",
              "      <td>0.856726</td>\n",
              "      <td>A</td>\n",
              "    </tr>\n",
              "    <tr>\n",
              "      <th>1</th>\n",
              "      <td>2017-08-14 11:37:49.801</td>\n",
              "      <td>32564.903040</td>\n",
              "      <td>0.856705</td>\n",
              "      <td>A</td>\n",
              "    </tr>\n",
              "    <tr>\n",
              "      <th>2</th>\n",
              "      <td>2017-08-14 11:37:49.811</td>\n",
              "      <td>31454.043305</td>\n",
              "      <td>0.856683</td>\n",
              "      <td>A</td>\n",
              "    </tr>\n",
              "    <tr>\n",
              "      <th>3</th>\n",
              "      <td>2017-08-14 11:37:49.821</td>\n",
              "      <td>30335.387166</td>\n",
              "      <td>0.856659</td>\n",
              "      <td>A</td>\n",
              "    </tr>\n",
              "    <tr>\n",
              "      <th>4</th>\n",
              "      <td>2017-08-14 11:37:49.831</td>\n",
              "      <td>29207.142938</td>\n",
              "      <td>0.856634</td>\n",
              "      <td>A</td>\n",
              "    </tr>\n",
              "  </tbody>\n",
              "</table>\n",
              "</div>"
            ],
            "text/plain": [
              "                     Time       Signal1   Signal2 Label\n",
              "0 2017-08-14 11:37:49.791  33668.091913  0.856726     A\n",
              "1 2017-08-14 11:37:49.801  32564.903040  0.856705     A\n",
              "2 2017-08-14 11:37:49.811  31454.043305  0.856683     A\n",
              "3 2017-08-14 11:37:49.821  30335.387166  0.856659     A\n",
              "4 2017-08-14 11:37:49.831  29207.142938  0.856634     A"
            ]
          },
          "metadata": {
            "tags": []
          },
          "execution_count": 9
        }
      ]
    },
    {
      "cell_type": "code",
      "metadata": {
        "colab": {
          "base_uri": "https://localhost:8080/",
          "height": 284
        },
        "id": "scC4XcvX1FaL",
        "outputId": "4bdbe028-2f5d-43ec-8d56-9c200cc3c7e3"
      },
      "source": [
        "df_tmp.describe()"
      ],
      "execution_count": 10,
      "outputs": [
        {
          "output_type": "execute_result",
          "data": {
            "text/html": [
              "<div>\n",
              "<style scoped>\n",
              "    .dataframe tbody tr th:only-of-type {\n",
              "        vertical-align: middle;\n",
              "    }\n",
              "\n",
              "    .dataframe tbody tr th {\n",
              "        vertical-align: top;\n",
              "    }\n",
              "\n",
              "    .dataframe thead th {\n",
              "        text-align: right;\n",
              "    }\n",
              "</style>\n",
              "<table border=\"1\" class=\"dataframe\">\n",
              "  <thead>\n",
              "    <tr style=\"text-align: right;\">\n",
              "      <th></th>\n",
              "      <th>Signal1</th>\n",
              "      <th>Signal2</th>\n",
              "    </tr>\n",
              "  </thead>\n",
              "  <tbody>\n",
              "    <tr>\n",
              "      <th>count</th>\n",
              "      <td>542688.000000</td>\n",
              "      <td>542688.000000</td>\n",
              "    </tr>\n",
              "    <tr>\n",
              "      <th>mean</th>\n",
              "      <td>31312.169055</td>\n",
              "      <td>0.314616</td>\n",
              "    </tr>\n",
              "    <tr>\n",
              "      <th>std</th>\n",
              "      <td>12937.103028</td>\n",
              "      <td>0.183103</td>\n",
              "    </tr>\n",
              "    <tr>\n",
              "      <th>min</th>\n",
              "      <td>-2934.328327</td>\n",
              "      <td>0.123263</td>\n",
              "    </tr>\n",
              "    <tr>\n",
              "      <th>25%</th>\n",
              "      <td>23253.113384</td>\n",
              "      <td>0.162470</td>\n",
              "    </tr>\n",
              "    <tr>\n",
              "      <th>50%</th>\n",
              "      <td>30424.936825</td>\n",
              "      <td>0.246228</td>\n",
              "    </tr>\n",
              "    <tr>\n",
              "      <th>75%</th>\n",
              "      <td>38824.548742</td>\n",
              "      <td>0.483007</td>\n",
              "    </tr>\n",
              "    <tr>\n",
              "      <th>max</th>\n",
              "      <td>67692.652022</td>\n",
              "      <td>0.945257</td>\n",
              "    </tr>\n",
              "  </tbody>\n",
              "</table>\n",
              "</div>"
            ],
            "text/plain": [
              "             Signal1        Signal2\n",
              "count  542688.000000  542688.000000\n",
              "mean    31312.169055       0.314616\n",
              "std     12937.103028       0.183103\n",
              "min     -2934.328327       0.123263\n",
              "25%     23253.113384       0.162470\n",
              "50%     30424.936825       0.246228\n",
              "75%     38824.548742       0.483007\n",
              "max     67692.652022       0.945257"
            ]
          },
          "metadata": {
            "tags": []
          },
          "execution_count": 10
        }
      ]
    },
    {
      "cell_type": "code",
      "metadata": {
        "colab": {
          "base_uri": "https://localhost:8080/"
        },
        "id": "FCdLZvSY1Lhh",
        "outputId": "8f0d68a9-d575-43bb-962b-123acc7b9670"
      },
      "source": [
        "df_tmp.info()"
      ],
      "execution_count": 11,
      "outputs": [
        {
          "output_type": "stream",
          "text": [
            "<class 'pandas.core.frame.DataFrame'>\n",
            "RangeIndex: 542688 entries, 0 to 542687\n",
            "Data columns (total 4 columns):\n",
            " #   Column   Non-Null Count   Dtype         \n",
            "---  ------   --------------   -----         \n",
            " 0   Time     542688 non-null  datetime64[ns]\n",
            " 1   Signal1  542688 non-null  float64       \n",
            " 2   Signal2  542688 non-null  float64       \n",
            " 3   Label    542687 non-null  object        \n",
            "dtypes: datetime64[ns](1), float64(2), object(1)\n",
            "memory usage: 16.6+ MB\n"
          ],
          "name": "stdout"
        }
      ]
    },
    {
      "cell_type": "markdown",
      "metadata": {
        "id": "OR7eHISi19P-"
      },
      "source": [
        "##  Checking for null values"
      ]
    },
    {
      "cell_type": "code",
      "metadata": {
        "colab": {
          "base_uri": "https://localhost:8080/"
        },
        "id": "L6PJNqtv1SZn",
        "outputId": "37c149f0-fcf5-4515-d328-e7cb6370cd12"
      },
      "source": [
        "df_tmp.isna().sum()"
      ],
      "execution_count": 13,
      "outputs": [
        {
          "output_type": "execute_result",
          "data": {
            "text/plain": [
              "Time       0\n",
              "Signal1    0\n",
              "Signal2    0\n",
              "Label      1\n",
              "dtype: int64"
            ]
          },
          "metadata": {
            "tags": []
          },
          "execution_count": 13
        }
      ]
    },
    {
      "cell_type": "markdown",
      "metadata": {
        "id": "NJyE5w9R2Ehh"
      },
      "source": [
        "## Removing the row containing null value"
      ]
    },
    {
      "cell_type": "code",
      "metadata": {
        "id": "7KytppwQ1X8Y"
      },
      "source": [
        "df_tmp.dropna(axis=0,inplace=True)"
      ],
      "execution_count": 14,
      "outputs": []
    },
    {
      "cell_type": "code",
      "metadata": {
        "colab": {
          "base_uri": "https://localhost:8080/"
        },
        "id": "dNUH4Ng41pHy",
        "outputId": "1ba0fc1a-1bf2-47a8-e358-6898c257dfb6"
      },
      "source": [
        "df_tmp.isna().sum()"
      ],
      "execution_count": 15,
      "outputs": [
        {
          "output_type": "execute_result",
          "data": {
            "text/plain": [
              "Time       0\n",
              "Signal1    0\n",
              "Signal2    0\n",
              "Label      0\n",
              "dtype: int64"
            ]
          },
          "metadata": {
            "tags": []
          },
          "execution_count": 15
        }
      ]
    },
    {
      "cell_type": "markdown",
      "metadata": {
        "id": "XrrxC7VB2PZA"
      },
      "source": [
        "## Checking the valuecounts for each label"
      ]
    },
    {
      "cell_type": "code",
      "metadata": {
        "colab": {
          "base_uri": "https://localhost:8080/"
        },
        "id": "W_NpGBaD1rWX",
        "outputId": "c35233f1-349d-4079-b676-4821f0697222"
      },
      "source": [
        "df_tmp.Label.value_counts()"
      ],
      "execution_count": 16,
      "outputs": [
        {
          "output_type": "execute_result",
          "data": {
            "text/plain": [
              "A    318000\n",
              "C    192000\n",
              "B     32687\n",
              "Name: Label, dtype: int64"
            ]
          },
          "metadata": {
            "tags": []
          },
          "execution_count": 16
        }
      ]
    },
    {
      "cell_type": "code",
      "metadata": {
        "id": "kV5R2tUm1zkJ"
      },
      "source": [
        ""
      ],
      "execution_count": null,
      "outputs": []
    },
    {
      "cell_type": "markdown",
      "metadata": {
        "id": "tBEPkX-t2huA"
      },
      "source": [
        "## Processing the data"
      ]
    },
    {
      "cell_type": "code",
      "metadata": {
        "id": "njQ3qAyG2pO8"
      },
      "source": [
        "df_tmp['Year']=df_tmp.Time.dt.year\r\n",
        "df_tmp['month']=df_tmp.Time.dt.month\r\n",
        "df_tmp['day']=df_tmp.Time.dt.day\r\n",
        "df_tmp['dayofweek']=df_tmp.Time.dt.dayofweek\r\n",
        "df_tmp['hour']=df_tmp.Time.dt.hour\r\n",
        "df_tmp['minutes']=df_tmp.Time.dt.minute\r\n",
        "df_tmp['seconds']=df_tmp.Time.dt.second"
      ],
      "execution_count": 19,
      "outputs": []
    },
    {
      "cell_type": "code",
      "metadata": {
        "colab": {
          "base_uri": "https://localhost:8080/",
          "height": 195
        },
        "id": "tTUZgM0620Ag",
        "outputId": "7e8ddc5e-3f44-44db-b7bb-9de4bd65a5d7"
      },
      "source": [
        "df_tmp.head()"
      ],
      "execution_count": 20,
      "outputs": [
        {
          "output_type": "execute_result",
          "data": {
            "text/html": [
              "<div>\n",
              "<style scoped>\n",
              "    .dataframe tbody tr th:only-of-type {\n",
              "        vertical-align: middle;\n",
              "    }\n",
              "\n",
              "    .dataframe tbody tr th {\n",
              "        vertical-align: top;\n",
              "    }\n",
              "\n",
              "    .dataframe thead th {\n",
              "        text-align: right;\n",
              "    }\n",
              "</style>\n",
              "<table border=\"1\" class=\"dataframe\">\n",
              "  <thead>\n",
              "    <tr style=\"text-align: right;\">\n",
              "      <th></th>\n",
              "      <th>Time</th>\n",
              "      <th>Signal1</th>\n",
              "      <th>Signal2</th>\n",
              "      <th>Label</th>\n",
              "      <th>Year</th>\n",
              "      <th>month</th>\n",
              "      <th>day</th>\n",
              "      <th>dayofweek</th>\n",
              "      <th>hour</th>\n",
              "      <th>minutes</th>\n",
              "      <th>seconds</th>\n",
              "    </tr>\n",
              "  </thead>\n",
              "  <tbody>\n",
              "    <tr>\n",
              "      <th>0</th>\n",
              "      <td>2017-08-14 11:37:49.791</td>\n",
              "      <td>33668.091913</td>\n",
              "      <td>0.856726</td>\n",
              "      <td>A</td>\n",
              "      <td>2017</td>\n",
              "      <td>8</td>\n",
              "      <td>14</td>\n",
              "      <td>0</td>\n",
              "      <td>11</td>\n",
              "      <td>37</td>\n",
              "      <td>49</td>\n",
              "    </tr>\n",
              "    <tr>\n",
              "      <th>1</th>\n",
              "      <td>2017-08-14 11:37:49.801</td>\n",
              "      <td>32564.903040</td>\n",
              "      <td>0.856705</td>\n",
              "      <td>A</td>\n",
              "      <td>2017</td>\n",
              "      <td>8</td>\n",
              "      <td>14</td>\n",
              "      <td>0</td>\n",
              "      <td>11</td>\n",
              "      <td>37</td>\n",
              "      <td>49</td>\n",
              "    </tr>\n",
              "    <tr>\n",
              "      <th>2</th>\n",
              "      <td>2017-08-14 11:37:49.811</td>\n",
              "      <td>31454.043305</td>\n",
              "      <td>0.856683</td>\n",
              "      <td>A</td>\n",
              "      <td>2017</td>\n",
              "      <td>8</td>\n",
              "      <td>14</td>\n",
              "      <td>0</td>\n",
              "      <td>11</td>\n",
              "      <td>37</td>\n",
              "      <td>49</td>\n",
              "    </tr>\n",
              "    <tr>\n",
              "      <th>3</th>\n",
              "      <td>2017-08-14 11:37:49.821</td>\n",
              "      <td>30335.387166</td>\n",
              "      <td>0.856659</td>\n",
              "      <td>A</td>\n",
              "      <td>2017</td>\n",
              "      <td>8</td>\n",
              "      <td>14</td>\n",
              "      <td>0</td>\n",
              "      <td>11</td>\n",
              "      <td>37</td>\n",
              "      <td>49</td>\n",
              "    </tr>\n",
              "    <tr>\n",
              "      <th>4</th>\n",
              "      <td>2017-08-14 11:37:49.831</td>\n",
              "      <td>29207.142938</td>\n",
              "      <td>0.856634</td>\n",
              "      <td>A</td>\n",
              "      <td>2017</td>\n",
              "      <td>8</td>\n",
              "      <td>14</td>\n",
              "      <td>0</td>\n",
              "      <td>11</td>\n",
              "      <td>37</td>\n",
              "      <td>49</td>\n",
              "    </tr>\n",
              "  </tbody>\n",
              "</table>\n",
              "</div>"
            ],
            "text/plain": [
              "                     Time       Signal1   Signal2  ... hour  minutes  seconds\n",
              "0 2017-08-14 11:37:49.791  33668.091913  0.856726  ...   11       37       49\n",
              "1 2017-08-14 11:37:49.801  32564.903040  0.856705  ...   11       37       49\n",
              "2 2017-08-14 11:37:49.811  31454.043305  0.856683  ...   11       37       49\n",
              "3 2017-08-14 11:37:49.821  30335.387166  0.856659  ...   11       37       49\n",
              "4 2017-08-14 11:37:49.831  29207.142938  0.856634  ...   11       37       49\n",
              "\n",
              "[5 rows x 11 columns]"
            ]
          },
          "metadata": {
            "tags": []
          },
          "execution_count": 20
        }
      ]
    },
    {
      "cell_type": "code",
      "metadata": {
        "id": "_eqTWDKz239J"
      },
      "source": [
        "df_tmp.drop(['Time'],axis=1,inplace=True)"
      ],
      "execution_count": 21,
      "outputs": []
    },
    {
      "cell_type": "code",
      "metadata": {
        "colab": {
          "base_uri": "https://localhost:8080/",
          "height": 195
        },
        "id": "uUPj2Jts3MLx",
        "outputId": "10655a58-e69f-4e88-bd08-220824509603"
      },
      "source": [
        "df_tmp.head()"
      ],
      "execution_count": 22,
      "outputs": [
        {
          "output_type": "execute_result",
          "data": {
            "text/html": [
              "<div>\n",
              "<style scoped>\n",
              "    .dataframe tbody tr th:only-of-type {\n",
              "        vertical-align: middle;\n",
              "    }\n",
              "\n",
              "    .dataframe tbody tr th {\n",
              "        vertical-align: top;\n",
              "    }\n",
              "\n",
              "    .dataframe thead th {\n",
              "        text-align: right;\n",
              "    }\n",
              "</style>\n",
              "<table border=\"1\" class=\"dataframe\">\n",
              "  <thead>\n",
              "    <tr style=\"text-align: right;\">\n",
              "      <th></th>\n",
              "      <th>Signal1</th>\n",
              "      <th>Signal2</th>\n",
              "      <th>Label</th>\n",
              "      <th>Year</th>\n",
              "      <th>month</th>\n",
              "      <th>day</th>\n",
              "      <th>dayofweek</th>\n",
              "      <th>hour</th>\n",
              "      <th>minutes</th>\n",
              "      <th>seconds</th>\n",
              "    </tr>\n",
              "  </thead>\n",
              "  <tbody>\n",
              "    <tr>\n",
              "      <th>0</th>\n",
              "      <td>33668.091913</td>\n",
              "      <td>0.856726</td>\n",
              "      <td>A</td>\n",
              "      <td>2017</td>\n",
              "      <td>8</td>\n",
              "      <td>14</td>\n",
              "      <td>0</td>\n",
              "      <td>11</td>\n",
              "      <td>37</td>\n",
              "      <td>49</td>\n",
              "    </tr>\n",
              "    <tr>\n",
              "      <th>1</th>\n",
              "      <td>32564.903040</td>\n",
              "      <td>0.856705</td>\n",
              "      <td>A</td>\n",
              "      <td>2017</td>\n",
              "      <td>8</td>\n",
              "      <td>14</td>\n",
              "      <td>0</td>\n",
              "      <td>11</td>\n",
              "      <td>37</td>\n",
              "      <td>49</td>\n",
              "    </tr>\n",
              "    <tr>\n",
              "      <th>2</th>\n",
              "      <td>31454.043305</td>\n",
              "      <td>0.856683</td>\n",
              "      <td>A</td>\n",
              "      <td>2017</td>\n",
              "      <td>8</td>\n",
              "      <td>14</td>\n",
              "      <td>0</td>\n",
              "      <td>11</td>\n",
              "      <td>37</td>\n",
              "      <td>49</td>\n",
              "    </tr>\n",
              "    <tr>\n",
              "      <th>3</th>\n",
              "      <td>30335.387166</td>\n",
              "      <td>0.856659</td>\n",
              "      <td>A</td>\n",
              "      <td>2017</td>\n",
              "      <td>8</td>\n",
              "      <td>14</td>\n",
              "      <td>0</td>\n",
              "      <td>11</td>\n",
              "      <td>37</td>\n",
              "      <td>49</td>\n",
              "    </tr>\n",
              "    <tr>\n",
              "      <th>4</th>\n",
              "      <td>29207.142938</td>\n",
              "      <td>0.856634</td>\n",
              "      <td>A</td>\n",
              "      <td>2017</td>\n",
              "      <td>8</td>\n",
              "      <td>14</td>\n",
              "      <td>0</td>\n",
              "      <td>11</td>\n",
              "      <td>37</td>\n",
              "      <td>49</td>\n",
              "    </tr>\n",
              "  </tbody>\n",
              "</table>\n",
              "</div>"
            ],
            "text/plain": [
              "        Signal1   Signal2 Label  Year  ...  dayofweek  hour  minutes  seconds\n",
              "0  33668.091913  0.856726     A  2017  ...          0    11       37       49\n",
              "1  32564.903040  0.856705     A  2017  ...          0    11       37       49\n",
              "2  31454.043305  0.856683     A  2017  ...          0    11       37       49\n",
              "3  30335.387166  0.856659     A  2017  ...          0    11       37       49\n",
              "4  29207.142938  0.856634     A  2017  ...          0    11       37       49\n",
              "\n",
              "[5 rows x 10 columns]"
            ]
          },
          "metadata": {
            "tags": []
          },
          "execution_count": 22
        }
      ]
    },
    {
      "cell_type": "markdown",
      "metadata": {
        "id": "TUH2TyHW37_m"
      },
      "source": [
        "## Converting labels into catogorical values"
      ]
    },
    {
      "cell_type": "code",
      "metadata": {
        "id": "gclp1tEH3pY4"
      },
      "source": [
        "df_tmp['Label']=pd.Categorical(df_tmp['Label']).codes+1"
      ],
      "execution_count": 30,
      "outputs": []
    },
    {
      "cell_type": "code",
      "metadata": {
        "colab": {
          "base_uri": "https://localhost:8080/",
          "height": 195
        },
        "id": "sM7EST684KTN",
        "outputId": "916d183e-b938-4563-c049-f90a1c4a33db"
      },
      "source": [
        "df_tmp.head()"
      ],
      "execution_count": 31,
      "outputs": [
        {
          "output_type": "execute_result",
          "data": {
            "text/html": [
              "<div>\n",
              "<style scoped>\n",
              "    .dataframe tbody tr th:only-of-type {\n",
              "        vertical-align: middle;\n",
              "    }\n",
              "\n",
              "    .dataframe tbody tr th {\n",
              "        vertical-align: top;\n",
              "    }\n",
              "\n",
              "    .dataframe thead th {\n",
              "        text-align: right;\n",
              "    }\n",
              "</style>\n",
              "<table border=\"1\" class=\"dataframe\">\n",
              "  <thead>\n",
              "    <tr style=\"text-align: right;\">\n",
              "      <th></th>\n",
              "      <th>Signal1</th>\n",
              "      <th>Signal2</th>\n",
              "      <th>Label</th>\n",
              "      <th>Year</th>\n",
              "      <th>month</th>\n",
              "      <th>day</th>\n",
              "      <th>dayofweek</th>\n",
              "      <th>hour</th>\n",
              "      <th>minutes</th>\n",
              "      <th>seconds</th>\n",
              "    </tr>\n",
              "  </thead>\n",
              "  <tbody>\n",
              "    <tr>\n",
              "      <th>0</th>\n",
              "      <td>33668.091913</td>\n",
              "      <td>0.856726</td>\n",
              "      <td>1</td>\n",
              "      <td>2017</td>\n",
              "      <td>8</td>\n",
              "      <td>14</td>\n",
              "      <td>0</td>\n",
              "      <td>11</td>\n",
              "      <td>37</td>\n",
              "      <td>49</td>\n",
              "    </tr>\n",
              "    <tr>\n",
              "      <th>1</th>\n",
              "      <td>32564.903040</td>\n",
              "      <td>0.856705</td>\n",
              "      <td>1</td>\n",
              "      <td>2017</td>\n",
              "      <td>8</td>\n",
              "      <td>14</td>\n",
              "      <td>0</td>\n",
              "      <td>11</td>\n",
              "      <td>37</td>\n",
              "      <td>49</td>\n",
              "    </tr>\n",
              "    <tr>\n",
              "      <th>2</th>\n",
              "      <td>31454.043305</td>\n",
              "      <td>0.856683</td>\n",
              "      <td>1</td>\n",
              "      <td>2017</td>\n",
              "      <td>8</td>\n",
              "      <td>14</td>\n",
              "      <td>0</td>\n",
              "      <td>11</td>\n",
              "      <td>37</td>\n",
              "      <td>49</td>\n",
              "    </tr>\n",
              "    <tr>\n",
              "      <th>3</th>\n",
              "      <td>30335.387166</td>\n",
              "      <td>0.856659</td>\n",
              "      <td>1</td>\n",
              "      <td>2017</td>\n",
              "      <td>8</td>\n",
              "      <td>14</td>\n",
              "      <td>0</td>\n",
              "      <td>11</td>\n",
              "      <td>37</td>\n",
              "      <td>49</td>\n",
              "    </tr>\n",
              "    <tr>\n",
              "      <th>4</th>\n",
              "      <td>29207.142938</td>\n",
              "      <td>0.856634</td>\n",
              "      <td>1</td>\n",
              "      <td>2017</td>\n",
              "      <td>8</td>\n",
              "      <td>14</td>\n",
              "      <td>0</td>\n",
              "      <td>11</td>\n",
              "      <td>37</td>\n",
              "      <td>49</td>\n",
              "    </tr>\n",
              "  </tbody>\n",
              "</table>\n",
              "</div>"
            ],
            "text/plain": [
              "        Signal1   Signal2  Label  Year  ...  dayofweek  hour  minutes  seconds\n",
              "0  33668.091913  0.856726      1  2017  ...          0    11       37       49\n",
              "1  32564.903040  0.856705      1  2017  ...          0    11       37       49\n",
              "2  31454.043305  0.856683      1  2017  ...          0    11       37       49\n",
              "3  30335.387166  0.856659      1  2017  ...          0    11       37       49\n",
              "4  29207.142938  0.856634      1  2017  ...          0    11       37       49\n",
              "\n",
              "[5 rows x 10 columns]"
            ]
          },
          "metadata": {
            "tags": []
          },
          "execution_count": 31
        }
      ]
    },
    {
      "cell_type": "code",
      "metadata": {
        "id": "f489jli74N3c"
      },
      "source": [
        ""
      ],
      "execution_count": null,
      "outputs": []
    },
    {
      "cell_type": "markdown",
      "metadata": {
        "id": "00GtIrZV55Ts"
      },
      "source": [
        "## visualizing classes one by one\r\n",
        "* For class A"
      ]
    },
    {
      "cell_type": "code",
      "metadata": {
        "id": "_qWDhCOG6B8h"
      },
      "source": [
        "from sklearn.decomposition import PCA "
      ],
      "execution_count": 32,
      "outputs": []
    },
    {
      "cell_type": "code",
      "metadata": {
        "id": "Vdr8trvJ6GT3"
      },
      "source": [
        "pca = PCA(3) \r\n",
        "\r\n",
        "pca.fit(df_tmp.drop('Label',axis=1)[df_tmp['Label']==1]) \r\n",
        "  \r\n",
        "pca_data = pd.DataFrame(pca.transform(df_tmp.drop('Label',axis=1)[df_tmp['Label']==1])) \r\n",
        "\r\n",
        "  "
      ],
      "execution_count": 43,
      "outputs": []
    },
    {
      "cell_type": "code",
      "metadata": {
        "id": "dYdADxUs6TEF"
      },
      "source": [
        "from matplotlib import colors as mcolors \r\n",
        "import math "
      ],
      "execution_count": 44,
      "outputs": []
    },
    {
      "cell_type": "code",
      "metadata": {
        "id": "tjitwGSb6xte"
      },
      "source": [
        "''' Generating different colors in ascending order  \r\n",
        "                                of their hsv values '''\r\n",
        "colors = list(zip(*sorted(( \r\n",
        "                    tuple(mcolors.rgb_to_hsv( \r\n",
        "                          mcolors.to_rgba(color)[:3])), name) \r\n",
        "                     for name, color in dict( \r\n",
        "                            mcolors.BASE_COLORS, **mcolors.CSS4_COLORS \r\n",
        "                                                      ).items())))[1] \r\n",
        "   "
      ],
      "execution_count": 45,
      "outputs": []
    },
    {
      "cell_type": "code",
      "metadata": {
        "id": "EH-8NUBp64Av"
      },
      "source": [
        "clusters=7\r\n",
        "# number of steps to taken generate n(clusters) colors  \r\n",
        "skips = math.floor(len(colors[5 : -5])/clusters) \r\n",
        "cluster_colors = colors[5 : -5 : skips] "
      ],
      "execution_count": 46,
      "outputs": []
    },
    {
      "cell_type": "markdown",
      "metadata": {
        "id": "wDwqcU7b7_VI"
      },
      "source": [
        "## Complexity For Class A"
      ]
    },
    {
      "cell_type": "code",
      "metadata": {
        "colab": {
          "base_uri": "https://localhost:8080/",
          "height": 248
        },
        "id": "NF7bg00X67F5",
        "outputId": "2d9012f6-ebdf-4b8e-9513-0cf9c0b5ac09"
      },
      "source": [
        "from mpl_toolkits.mplot3d import Axes3D \r\n",
        "import matplotlib.pyplot as plt \r\n",
        "   \r\n",
        "fig = plt.figure() \r\n",
        "ax = fig.add_subplot(111, projection='3d') \r\n",
        "ax.scatter(pca_data[0], pca_data[1], pca_data[2])\r\n",
        "   \r\n",
        "   \r\n",
        "\r\n",
        "plt.show()"
      ],
      "execution_count": 49,
      "outputs": [
        {
          "output_type": "display_data",
          "data": {
            "image/png": "[encoded data removed]",
            "text/plain": [
              "<Figure size 432x288 with 1 Axes>"
            ]
          },
          "metadata": {
            "tags": [],
            "needs_background": "light"
          }
        }
      ]
    },
    {
      "cell_type": "markdown",
      "metadata": {
        "id": "ilRDmLry8Pxy"
      },
      "source": [
        "## **For Class B**"
      ]
    },
    {
      "cell_type": "code",
      "metadata": {
        "id": "TmC7eg4f8Thn"
      },
      "source": [
        "pca = PCA(3) \r\n",
        "\r\n",
        "pca.fit(df_tmp.drop('Label',axis=1)[df_tmp['Label']==2]) \r\n",
        "  \r\n",
        "pca_data = pd.DataFrame(pca.transform(df_tmp.drop('Label',axis=1)[df_tmp['Label']==2])) \r\n"
      ],
      "execution_count": 50,
      "outputs": []
    },
    {
      "cell_type": "code",
      "metadata": {
        "colab": {
          "base_uri": "https://localhost:8080/",
          "height": 248
        },
        "id": "k1x4ClYw8c7C",
        "outputId": "9f76207f-1840-40de-b16c-685614be4549"
      },
      "source": [
        "from mpl_toolkits.mplot3d import Axes3D \r\n",
        "import matplotlib.pyplot as plt \r\n",
        "   \r\n",
        "fig = plt.figure() \r\n",
        "ax = fig.add_subplot(111, projection='3d') \r\n",
        "ax.scatter(pca_data[0], pca_data[1], pca_data[2])\r\n",
        "   \r\n",
        "   \r\n",
        "\r\n",
        "plt.show()"
      ],
      "execution_count": 51,
      "outputs": [
        {
          "output_type": "display_data",
          "data": {
            "image/png": "[encoded data removed]",
            "text/plain": [
              "<Figure size 432x288 with 1 Axes>"
            ]
          },
          "metadata": {
            "tags": [],
            "needs_background": "light"
          }
        }
      ]
    },
    {
      "cell_type": "code",
      "metadata": {
        "id": "6pmxFBD18jDw"
      },
      "source": [
        "pca = PCA(3) \r\n",
        "\r\n",
        "pca.fit(df_tmp.drop('Label',axis=1)[df_tmp['Label']==3]) \r\n",
        "  \r\n",
        "pca_data = pd.DataFrame(pca.transform(df_tmp.drop('Label',axis=1)[df_tmp['Label']==2])) "
      ],
      "execution_count": 53,
      "outputs": []
    },
    {
      "cell_type": "markdown",
      "metadata": {
        "id": "COwp3awn8zG5"
      },
      "source": [
        "## **For Class C**"
      ]
    },
    {
      "cell_type": "code",
      "metadata": {
        "colab": {
          "base_uri": "https://localhost:8080/",
          "height": 248
        },
        "id": "BZLaf1TT83X-",
        "outputId": "eddccbd7-31d1-4ca3-83bd-a4fab27e49fe"
      },
      "source": [
        "from mpl_toolkits.mplot3d import Axes3D \r\n",
        "import matplotlib.pyplot as plt \r\n",
        "   \r\n",
        "fig = plt.figure() \r\n",
        "ax = fig.add_subplot(111, projection='3d') \r\n",
        "ax.scatter(pca_data[0], pca_data[1], pca_data[2])\r\n",
        "   \r\n",
        "   \r\n",
        "\r\n",
        "plt.show()"
      ],
      "execution_count": 54,
      "outputs": [
        {
          "output_type": "display_data",
          "data": {
            "image/png": "[encoded data removed]",
            "text/plain": [
              "<Figure size 432x288 with 1 Axes>"
            ]
          },
          "metadata": {
            "tags": [],
            "needs_background": "light"
          }
        }
      ]
    },
    {
      "cell_type": "code",
      "metadata": {
        "id": "mvSyNmxs9DWV"
      },
      "source": [
        ""
      ],
      "execution_count": null,
      "outputs": []
    },
    {
      "cell_type": "markdown",
      "metadata": {
        "id": "9xub1Ac09Nho"
      },
      "source": [
        "# **From the above three figures we could understand the comlpexity for each of out labeled classes**"
      ]
    }
  ]
}